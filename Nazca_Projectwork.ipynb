{
 "cells": [
  {
   "cell_type": "markdown",
   "id": "d77f2b6d",
   "metadata": {},
   "source": [
    "## Parameters"
   ]
  },
  {
   "cell_type": "code",
   "execution_count": 59,
   "id": "cfc6e31a",
   "metadata": {},
   "outputs": [],
   "source": [
    "wg_height=220e-3\n",
    "wg_width=450e-3\n",
    "etch_depth=160e-3\n",
    "wavelength=1550e-3\n",
    "domain_width=3\n",
    "box_height=2\n",
    "tox_height=1\n",
    "length_strip=1\n",
    "domain_height=box_height+tox_height\n",
    "length_taper=3\n",
    "length_rib=1\n",
    "width_rib=2\n",
    "straight_length1=0.872\n",
    "straight_length2=5.8579"
   ]
  },
  {
   "cell_type": "code",
   "execution_count": 60,
   "id": "9c62fc9c",
   "metadata": {},
   "outputs": [],
   "source": [
    "import nazca as nd\n",
    "import nazca.interconnects as IC\n",
    "import numpy as np\n",
    "\n",
    "# Define slab and waveguide layers\n",
    "nd.add_layer2xsection(xsection='slabXS', layer=10, accuracy=0.001)\n",
    "nd.add_layer2xsection(xsection='waveguideXS', layer=20, accuracy=0.001)\n",
    "\n",
    "# Create interconnects\n",
    "icSlab = IC.Interconnect(width=0.45, radius=10, xs='slabXS')\n",
    "icWaveguide = IC.Interconnect(width=0.45, radius=10, xs='waveguideXS')  # New interconnect on layer 20\n",
    "\n",
    "# Define slab taper function\n",
    "def slabTaper(length=3.0, ribWidth=0.49, slabWidth=2.0):\n",
    "    with nd.Cell(name='SlabTaper_{}_{}'.format(length, slabWidth)) as bb:\n",
    "        # Place Taper\n",
    "        chTaper = icSlab.taper(length=length, width1=ribWidth, width2=slabWidth)\n",
    "        chTaper.put(0, 0)\n",
    "        \n",
    "        # Put Pins\n",
    "        nd.Pin('a0', pin=chTaper.pin['a0']).put()\n",
    "        nd.Pin('b0', pin=chTaper.pin['b0']).put()\n",
    "        nd.put_stub([], length=0)\n",
    "        nd.put_stub(['a0', 'b0'], length=0)\n",
    "\n",
    "    return bb\n",
    "\n",
    "def y_splitter(x, y, width1=0.45, length=5.0):\n",
    "    \"\"\"Creates a Y-splitter from one input to two outputs.\"\"\"\n",
    "    with nd.Cell(name=\"Y_Splitter\") as ysplit:\n",
    "        # Define input waveguide\n",
    "        in_wg = icWaveguide.strt(length=length, width=width1)\n",
    "        input = in_wg.put(x, y)\n",
    "        \n",
    "        # Define output branches\n",
    "        out_wg1 = icWaveguide.bend(radius=5, angle=-45)  # First branch\n",
    "        out_wg2 = icWaveguide.bend(radius=5, angle=45)   # Second branch\n",
    "        \n",
    "        output1 = out_wg1.put(input.pin[\"b0\"])  # Place first output\n",
    "        output2 = out_wg2.put(input.pin[\"b0\"])  # Place second output\n",
    "        \n",
    "        # Pins for connectivity\n",
    "        nd.Pin(\"input\", pin=input.pin[\"a0\"]).put()\n",
    "        nd.Pin(\"output1\", pin=output1.pin[\"b0\"]).put()\n",
    "        nd.Pin(\"output2\", pin=output2.pin[\"b0\"]).put()\n",
    "        \n",
    "    return ysplit\n",
    "\n",
    "\n",
    "# Function to create a bend with a starting angle\n",
    "def custom_bend(x, y, start_angle, bend_radius, bend_angle):\n",
    "    \"\"\"Creates a bend with customizable parameters.\n",
    "\n",
    "    Args:\n",
    "        x, y (float): Starting position.\n",
    "        start_angle (float): Initial orientation before bending.\n",
    "        bend_radius (float): Radius of the bend.\n",
    "        bend_angle (float): Bend angle in degrees.\n",
    "\n",
    "    Returns:\n",
    "        Cell: The bend element.\n",
    "    \"\"\"\n",
    "    with nd.Cell(name=f\"Bend_{bend_radius}_{bend_angle}\") as bend_cell:\n",
    "        bend = icWaveguide.bend(radius=bend_radius, angle=bend_angle)\n",
    "        p_bend=bend.put(x, y, start_angle)  # Apply starting angle\n",
    "        nd.Pin(\"b0\", pin=p_bend.pin[\"b0\"]).put()\n",
    "    return bend_cell\n",
    "\n",
    "\n",
    "# Function to create a straight waveguide with a starting angle\n",
    "def straight_waveguide(x, y, start_angle, width, length):\n",
    "    \"\"\"Creates a straight waveguide with defined width, length, and orientation.\n",
    "\n",
    "    Args:\n",
    "        x, y (float): Starting position.\n",
    "        start_angle (float): Initial orientation before placing.\n",
    "        width (float): Width of the waveguide.\n",
    "        length (float): Length of the waveguide.\n",
    "\n",
    "    Returns:\n",
    "        Cell: The straight waveguide element.\n",
    "    \"\"\"\n",
    "    with nd.Cell(name=f\"StraightWG_{length}_{width}\") as wg_cell:\n",
    "        wg = icWaveguide.strt(length=length, width=width)\n",
    "        p_wg=wg.put(x, y, start_angle)  # Apply initial orientation\n",
    "        nd.Pin(\"b0\", pin=p_wg.pin[\"b0\"]).put()\n",
    "    return wg_cell\n",
    "\n",
    "\n",
    "# Function to create a directional coupler\n",
    "def directional_coupler(x, y, length=1.2, gap=50e-3):\n",
    "    \"\"\"Creates a directional coupler with two parallel waveguides.\n",
    "\n",
    "    Args:\n",
    "        x, y (float): Start position.\n",
    "        length (float): Length of the waveguides in microns.\n",
    "        gap (float): Distance between waveguides in microns.\n",
    "\n",
    "    Returns:\n",
    "        Cell: The directional coupler element.\n",
    "    \"\"\"\n",
    "    with nd.Cell(name=f\"Directional_Coupler_{length}_{gap}\") as dc_cell:\n",
    "        # First waveguide\n",
    "        wg1 = icWaveguide.strt(length=length, width=0.45)\n",
    "        pwg1=wg1.put(x, y)\n",
    "\n",
    "        # Second waveguide, placed with a gap\n",
    "        wg2 = icWaveguide.strt(length=length, width=0.45)\n",
    "        pwg2=wg2.put(x, y + gap+0.45)  # Offset by the gap distance\n",
    "\n",
    "        input_wg1 = icWaveguide.bend(radius=5, angle=45)  # First branch\n",
    "        input_wg2 = icWaveguide.bend(radius=5, angle=-45)   # Second branch\n",
    "        \n",
    "        input1 = input_wg1.put(pwg1.pin[\"a0\"])  # Place first output\n",
    "        input2 = input_wg2.put(pwg2.pin[\"a0\"]) \n",
    "\n",
    "        out_wg1 = icWaveguide.bend(radius=5, angle=-45)  # First branch\n",
    "        out_wg2 = icWaveguide.bend(radius=5, angle=45)   # Second branch\n",
    "        \n",
    "        output1 = out_wg1.put(pwg1.pin[\"b0\"])  # Place first output\n",
    "        output2 = out_wg2.put(pwg2.pin[\"b0\"]) \n",
    "\n",
    "        # Define pins for connectivity\n",
    "        nd.Pin(\"input1\", pin=input1.pin[\"b0\"]).put()\n",
    "        nd.Pin(\"input2\", pin=input2.pin[\"b0\"]).put()\n",
    "        nd.Pin(\"output1\", pin=output1.pin[\"b0\"]).put()\n",
    "        nd.Pin(\"output2\", pin=output2.pin[\"b0\"]).put()\n",
    "\n",
    "    return dc_cell\n",
    "\n",
    "def laser_system(length, length2):\n",
    "    \"\"\"Creates a full laser system with defined inputs/outputs.\"\"\"\n",
    "    with nd.Cell(name=f\"laser_system_{length}\") as laser_cell:\n",
    "        bend = icWaveguide.bend(radius=5, angle=-45)\n",
    "        pbend1=bend.put()\n",
    "        in_wg = icWaveguide.strt(length=length, width=0.45)\n",
    "        input = in_wg.put(pbend1.pin[\"b0\"])\n",
    "        \n",
    "        # Define output branches\n",
    "        out_wg1 = icWaveguide.bend(radius=5, angle=-45)  # First branch\n",
    "        out_wg2 = icWaveguide.bend(radius=5, angle=45)   # Second branch\n",
    "        \n",
    "        output1 = out_wg1.put(input.pin[\"b0\"])  # Place first output\n",
    "        output2 = out_wg2.put(input.pin[\"b0\"])  # Place second output\n",
    "\n",
    "        # Lower branch of laser\n",
    "        wg1 = icWaveguide.strt(length=length, width=0.45)\n",
    "        pwg1=wg1.put(output1.pin[\"b0\"])\n",
    "        bend = icWaveguide.bend(radius=5, angle=45)\n",
    "        pbend1=bend.put(pwg1.pin[\"b0\"])\n",
    "        wg2=icWaveguide.strt(length=length2, width=0.45)\n",
    "        pwg2=wg2.put(pbend1.pin[\"b0\"])\n",
    "\n",
    "        bend3=icWaveguide.bend(radius=5, angle=45)\n",
    "        pbend2=bend3.put(output2.pin[\"b0\"])\n",
    "\n",
    "        # Assign proper connectivity pins\n",
    "        nd.Pin(\"input\", pin=pbend1.pin[\"a0\"]).put()\n",
    "        nd.Pin(\"output1\", pin=pbend2.pin[\"b0\"]).put()\n",
    "        nd.Pin(\"output2\", pin=pwg2.pin[\"b0\"]).put()\n",
    "\n",
    "    return laser_cell\n",
    "\n",
    "\n",
    "\n",
    "\n",
    "# Create tapers using correct interconnects\n",
    "taper1 = slabTaper(length=length_taper, ribWidth=wg_width, slabWidth=width_rib)\n",
    "taper2 = icSlab.taper(length=length_taper, width1=wg_width, width2=width_rib)\n",
    "\n",
    "\n",
    "\n",
    "length_str1=10\n",
    "length_str2=1\n",
    "length_str3=12.8\n",
    "def run_until_perfect():\n",
    "    distance=1\n",
    "    length_str3=12.8\n",
    "    while (distance>0.0001):\n",
    "        p_ysplit2 = y_splitter(0,5).put(0, 0) #INPUT\n",
    "        bend = custom_bend(x=0, y=0, start_angle=0, bend_radius=5, bend_angle=-45)\n",
    "                #s for signal\n",
    "        p_bend_sbelow=bend.put(p_ysplit2.pin[\"output1\"]) #lower branch of signal\n",
    "        bend = custom_bend(x=0, y=0, start_angle=0, bend_radius=5, bend_angle=45) \n",
    "        p_bend_sabove=bend.put(p_ysplit2.pin[\"output2\"]) #upper branch of signal\n",
    "\n",
    "                #lower branch\n",
    "        straight1=straight_waveguide(0, 0, 0, 0.45, length_str1)\n",
    "        lengthtemp1=1 + 0.136698125872325 ##############\n",
    "        straight_interconnect1=icWaveguide.strt(length=lengthtemp1, width=0.45)\n",
    "        pstraight_interconnect1=straight_interconnect1.put(p_bend_sabove.pin[\"b0\"])\n",
    "\n",
    "        lengthtemp2=1.5 #################\n",
    "        taper2 = icWaveguide.taper(length=lengthtemp2, width1=wg_width, width2=1)\n",
    "        ptaperinter_1=taper2.put(pstraight_interconnect1.pin[\"b0\"])\n",
    "        coord1=ptaperinter_1.pin[\"b0\"]\n",
    "        lengthinter=1 ##################\n",
    "        p_block=icWaveguide.strt(length=1, width=1).put(ptaperinter_1.pin[\"b0\"])\n",
    "        p_taperinter_3=icWaveguide.taper(length=lengthtemp2, width1=1, width2=0.45).put(p_block.pin[\"b0\"])\n",
    "\n",
    "        p_str_sabove=icWaveguide.strt(length=length_str1-lengthinter-2*lengthtemp2-lengthtemp1, width=0.45).put(p_taperinter_3.pin[\"b0\"])\n",
    "\n",
    "\n",
    "        p_str_sbelow=straight1.put(p_bend_sbelow.pin[\"b0\"])\n",
    "        pbend_slowest=custom_bend(0, 0, 0, 5, 90).put(p_str_sbelow.pin[\"b0\"])\n",
    "\n",
    "        straight2=straight_waveguide(0, 0, 0, 0.45, length_str2)\n",
    "\n",
    "        p_str_slow=straight2.put(pbend_slowest.pin[\"b0\"])\n",
    "        p_bend_sibldc=custom_bend(0, 0, 0, 5, 45).put(p_str_slow.pin[\"b0\"])\n",
    "\n",
    "        straight3=straight_waveguide(0, 0, 0, 0.45, length_str3)\n",
    "\n",
    "\n",
    "\n",
    "\n",
    "                #signal above the y beam splitter\n",
    "        bend = custom_bend(x=0, y=0, start_angle=0, bend_radius=5, bend_angle=-90) \n",
    "        p_bend_sabvstr=bend.put(p_str_sabove.pin[\"b0\"])\n",
    "\n",
    "        p_str1=straight2.put(p_bend_sabvstr.pin[\"b0\"])\n",
    "        bend=custom_bend(0, 0, 0, 5, -45)\n",
    "        p_bend_si_dc=bend.put(p_str1.pin[\"b0\"])\n",
    "        p_strabove1=straight3.put(p_bend_si_dc.pin[\"b0\"])\n",
    "\n",
    "                # Place directional coupler at the waveguide's output port\n",
    "        dc = directional_coupler(p_strabove1.pin[\"b0\"].x, p_strabove1.pin[\"b0\"].y)\n",
    "        pdc1=dc.put(\"input2\")\n",
    "\n",
    "        dc_input1_pin = pdc1.pin[\"input1\"]  # Fetch the exact input pin of the DC\n",
    "        laser_system_cell = laser_system(straight_length1, straight_length2)\n",
    "        output_pin = laser_system_cell.pin[\"output1\"]\n",
    "        x_shift = dc_input1_pin.x - output_pin.x\n",
    "        y_shift = dc_input1_pin.y - output_pin.y\n",
    "        plsystem=laser_system_cell.put(x_shift, y_shift)\n",
    "        pinterconnect3=icWaveguide.strt(length=4.5+0.863301874127664, width=0.45).put(plsystem.pin[\"a0\"])\n",
    "        ptaperinter2=icWaveguide.taper(length=lengthtemp2, width1=0.45, width2=1).put(pinterconnect3.pin[\"b0\"])\n",
    "        coord2=ptaperinter2.pin[\"b0\"]\n",
    "\n",
    "        ptaperinter4=icWaveguide.taper(length=lengthtemp2, width1=0.45, width2=1).put(coord1.x-0.5-lengthtemp2, coord1.y+0.5)\n",
    "        length_equal1=ptaperinter4.pin[\"a0\"].x-p_ysplit2.pin[\"a0\"].x\n",
    "        pstrteq=icWaveguide.strt(length=length_equal1, width=0.45).put(ptaperinter4.pin[\"a0\"])\n",
    "\n",
    "                #second directional coupler\n",
    "        p_afterbandstrslow=straight3.put(p_bend_sibldc.pin[\"b0\"])\n",
    "        dc = directional_coupler(p_afterbandstrslow.pin[\"b0\"].x, p_afterbandstrslow.pin[\"b0\"].y)\n",
    "        pdc2=dc.put(\"input1\")\n",
    "\n",
    "        p1=np.array([pdc2.pin[\"input2\"].x, pdc2.pin[\"input2\"].y])\n",
    "        p2=np.array([plsystem.pin[\"output2\"].x, plsystem.pin[\"output2\"].y])\n",
    "\n",
    "        distance=np.sqrt(np.sum((p1 - p2)**2))\n",
    "        need_to_move=distance/2\n",
    "        length_str3=length_str3+need_to_move\n",
    "        print(distance)\n",
    "\n",
    "        pbendafdc1=icWaveguide.bend(5, 45).put(pdc1.pin[\"output1\"])\n",
    "        pbendafdc2=icWaveguide.bend(5, -45).put(pdc1.pin[\"output2\"])\n",
    "        pbendafdc3=icWaveguide.bend(5, 45).put(pdc2.pin[\"output1\"])\n",
    "        pbendafdc4=icWaveguide.bend(5, -45).put(pdc2.pin[\"output2\"])\n",
    "        length_str4=20\n",
    "        straight4=straight_waveguide(0, 0, 0, 0.45, length_str4)\n",
    "        pstr_befPD1=straight4.put(pbendafdc1.pin[\"b0\"])\n",
    "        pstr_befPD2=straight4.put(pbendafdc2.pin[\"b0\"])\n",
    "        pstr_befPD3=straight4.put(pbendafdc3.pin[\"b0\"])\n",
    "        pstr_befPD4=straight4.put(pbendafdc4.pin[\"b0\"])\n",
    "        \n",
    "        taper2 = icSlab.taper(length=length_taper, width1=wg_width, width2=width_rib)\n",
    "        taper1.put(pstr_befPD1.pin[\"b0\"])\n",
    "        icWaveguide.strt(length_taper, 0.45).put(pstr_befPD1.pin[\"b0\"])\n",
    "        taper2.put(pstr_befPD2.pin[\"b0\"])\n",
    "        icWaveguide.strt(length_taper, 0.45).put(pstr_befPD2.pin[\"b0\"])\n",
    "        taper2.put(pstr_befPD3.pin[\"b0\"])\n",
    "        icWaveguide.strt(length_taper, 0.45).put(pstr_befPD3.pin[\"b0\"])\n",
    "        taper2.put(pstr_befPD4.pin[\"b0\"])\n",
    "        icWaveguide.strt(length_taper, 0.45).put(pstr_befPD4.pin[\"b0\"])\n",
    "\n",
    "        # Export GDS\n",
    "        print(\"length 3= \", length_str3)\n",
    "        nd.export_gds(filename='tapers.gds')"
   ]
  },
  {
   "cell_type": "code",
   "execution_count": 61,
   "id": "54d7cde3",
   "metadata": {},
   "outputs": [
    {
     "name": "stdout",
     "output_type": "stream",
     "text": [
      "WARNING: file/#:2278740907.py/63: Duplicate cell name in nd.Cell(name='Bend_5_45') renamed to 'Bend_5_45_7085'.\n",
      "WARNING: file/#:2278740907.py/63: Duplicate cell name in nd.Cell(name='Bend_5_-45') renamed to 'Bend_5_-45_7094'.\n",
      "WARNING: file/#:2278740907.py/102: Duplicate cell name in nd.Cell(name='Directional_Coupler_1.2_0.05') renamed to 'Directional_Coupler_1.2_0.05_7135'.\n",
      "0.02604122402573999\n",
      "length 3=  12.81302061201287\n",
      "Starting layout export...\n",
      "...gds generation\n",
      "...Wrote file './tapers.gds'\n"
     ]
    },
    {
     "data": {
      "text/html": [
       "<pre>...<a href=\"./tapers.gds\" target=\"_blank\">./tapers.gds</a></pre>"
      ],
      "text/plain": [
       "<IPython.core.display.HTML object>"
      ]
     },
     "metadata": {},
     "output_type": "display_data"
    },
    {
     "name": "stdout",
     "output_type": "stream",
     "text": [
      "WARNING: file/#:2278740907.py/63: Duplicate cell name in nd.Cell(name='Bend_5_45') renamed to 'Bend_5_45_7202'.\n",
      "WARNING: file/#:2278740907.py/63: Duplicate cell name in nd.Cell(name='Bend_5_-45') renamed to 'Bend_5_-45_7211'.\n",
      "WARNING: file/#:2278740907.py/102: Duplicate cell name in nd.Cell(name='Directional_Coupler_1.2_0.05') renamed to 'Directional_Coupler_1.2_0.05_7252'.\n",
      "0.0076273273392770775\n",
      "length 3=  12.81683427568251\n",
      "Starting layout export...\n",
      "...gds generation\n",
      "...Wrote file './tapers.gds'\n"
     ]
    },
    {
     "data": {
      "text/html": [
       "<pre>...<a href=\"./tapers.gds\" target=\"_blank\">./tapers.gds</a></pre>"
      ],
      "text/plain": [
       "<IPython.core.display.HTML object>"
      ]
     },
     "metadata": {},
     "output_type": "display_data"
    },
    {
     "name": "stdout",
     "output_type": "stream",
     "text": [
      "WARNING: file/#:2278740907.py/63: Duplicate cell name in nd.Cell(name='Bend_5_45') renamed to 'Bend_5_45_7319'.\n",
      "WARNING: file/#:2278740907.py/63: Duplicate cell name in nd.Cell(name='Bend_5_-45') renamed to 'Bend_5_-45_7328'.\n",
      "WARNING: file/#:2278740907.py/102: Duplicate cell name in nd.Cell(name='Directional_Coupler_1.2_0.05') renamed to 'Directional_Coupler_1.2_0.05_7369'.\n",
      "0.002234092873798735\n",
      "length 3=  12.81795132211941\n",
      "Starting layout export...\n",
      "...gds generation\n",
      "...Wrote file './tapers.gds'\n"
     ]
    },
    {
     "data": {
      "text/html": [
       "<pre>...<a href=\"./tapers.gds\" target=\"_blank\">./tapers.gds</a></pre>"
      ],
      "text/plain": [
       "<IPython.core.display.HTML object>"
      ]
     },
     "metadata": {},
     "output_type": "display_data"
    },
    {
     "name": "stdout",
     "output_type": "stream",
     "text": [
      "WARNING: file/#:2278740907.py/63: Duplicate cell name in nd.Cell(name='Bend_5_45') renamed to 'Bend_5_45_7436'.\n",
      "WARNING: file/#:2278740907.py/63: Duplicate cell name in nd.Cell(name='Bend_5_-45') renamed to 'Bend_5_-45_7445'.\n",
      "WARNING: file/#:2278740907.py/102: Duplicate cell name in nd.Cell(name='Directional_Coupler_1.2_0.05') renamed to 'Directional_Coupler_1.2_0.05_7486'.\n",
      "0.0006546934154742119\n",
      "length 3=  12.818278668827146\n",
      "Starting layout export...\n",
      "...gds generation\n",
      "...Wrote file './tapers.gds'\n"
     ]
    },
    {
     "data": {
      "text/html": [
       "<pre>...<a href=\"./tapers.gds\" target=\"_blank\">./tapers.gds</a></pre>"
      ],
      "text/plain": [
       "<IPython.core.display.HTML object>"
      ]
     },
     "metadata": {},
     "output_type": "display_data"
    },
    {
     "name": "stdout",
     "output_type": "stream",
     "text": [
      "WARNING: file/#:2278740907.py/63: Duplicate cell name in nd.Cell(name='Bend_5_45') renamed to 'Bend_5_45_7553'.\n",
      "WARNING: file/#:2278740907.py/63: Duplicate cell name in nd.Cell(name='Bend_5_-45') renamed to 'Bend_5_-45_7562'.\n",
      "WARNING: file/#:2278740907.py/102: Duplicate cell name in nd.Cell(name='Directional_Coupler_1.2_0.05') renamed to 'Directional_Coupler_1.2_0.05_7603'.\n",
      "0.00019292206614505262\n",
      "length 3=  12.818375129860218\n",
      "Starting layout export...\n",
      "...gds generation\n",
      "...Wrote file './tapers.gds'\n"
     ]
    },
    {
     "data": {
      "text/html": [
       "<pre>...<a href=\"./tapers.gds\" target=\"_blank\">./tapers.gds</a></pre>"
      ],
      "text/plain": [
       "<IPython.core.display.HTML object>"
      ]
     },
     "metadata": {},
     "output_type": "display_data"
    },
    {
     "name": "stdout",
     "output_type": "stream",
     "text": [
      "WARNING: file/#:2278740907.py/63: Duplicate cell name in nd.Cell(name='Bend_5_45') renamed to 'Bend_5_45_7670'.\n",
      "WARNING: file/#:2278740907.py/63: Duplicate cell name in nd.Cell(name='Bend_5_-45') renamed to 'Bend_5_-45_7679'.\n",
      "WARNING: file/#:2278740907.py/102: Duplicate cell name in nd.Cell(name='Directional_Coupler_1.2_0.05') renamed to 'Directional_Coupler_1.2_0.05_7720'.\n",
      "6.036128445449019e-05\n",
      "length 3=  12.818405310502445\n",
      "Starting layout export...\n",
      "...gds generation\n",
      "...Wrote file './tapers.gds'\n"
     ]
    },
    {
     "data": {
      "text/html": [
       "<pre>...<a href=\"./tapers.gds\" target=\"_blank\">./tapers.gds</a></pre>"
      ],
      "text/plain": [
       "<IPython.core.display.HTML object>"
      ]
     },
     "metadata": {},
     "output_type": "display_data"
    }
   ],
   "source": [
    "run_until_perfect()"
   ]
  },
  {
   "cell_type": "code",
   "execution_count": null,
   "id": "9d31b82d",
   "metadata": {},
   "outputs": [],
   "source": []
  }
 ],
 "metadata": {
  "kernelspec": {
   "display_name": "Python 3",
   "language": "python",
   "name": "python3"
  },
  "language_info": {
   "codemirror_mode": {
    "name": "ipython",
    "version": 3
   },
   "file_extension": ".py",
   "mimetype": "text/x-python",
   "name": "python",
   "nbconvert_exporter": "python",
   "pygments_lexer": "ipython3",
   "version": "3.11.9"
  }
 },
 "nbformat": 4,
 "nbformat_minor": 5
}
